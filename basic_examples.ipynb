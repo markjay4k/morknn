{
 "cells": [
  {
   "cell_type": "code",
   "execution_count": 1,
   "id": "e77e26e6-8f70-4204-99a2-c984540a7514",
   "metadata": {
    "tags": []
   },
   "outputs": [],
   "source": [
    "from collections import namedtuple\n",
    "import matplotlib.pyplot as plt\n",
    "import pandas as pd\n",
    "import numpy as np\n",
    "import morknn.matplotlib_themes\n",
    "from morknn.layers import Layer\n",
    "import morknn.activators\n",
    "from morknn.datasets import mnist_dataset\n",
    "\n",
    "%config InlineBackend.figure_formats = ['svg']"
   ]
  },
  {
   "cell_type": "code",
   "execution_count": 2,
   "id": "065e5dba-93b6-4d68-a31a-e88d1e022d4a",
   "metadata": {
    "tags": []
   },
   "outputs": [],
   "source": [
    "train_x, train_y, val_x, val_y = mnist_dataset(verbose=False, transpose_x=False)"
   ]
  },
  {
   "cell_type": "markdown",
   "id": "771e3180-10ac-4fd6-acb8-1e1aba0e78df",
   "metadata": {},
   "source": [
    "## Multiply 2 matrices\n",
    "\n",
    "$$\n",
    "\\large{\n",
    "\\mathbf{C}_{q, p} = \\mathbf{A}_{q, n} \\cdot \\mathbf{B}_{n, p}\\,, \\qquad \\text{where}\\,\\qquad  c_{i, j} = \\sum_{k=0}^{n}a_{i, k}b_{k, j}\n",
    "}\n",
    "$$"
   ]
  },
  {
   "cell_type": "markdown",
   "id": "96646805-b81d-44c4-9c93-3209834bdd46",
   "metadata": {},
   "source": [
    "# Basic example (1 layer)\n",
    "\n",
    "<img src=\"https://i2.wp.com/www.adeveloperdiary.com/wp-content/uploads/2019/04/Understand-and-Implement-the-Backpropagation-Algorithm-From-Scratch-In-Python-adeveloperdiary.com-3.jpg?w=600&ssl=1\" width=450>\n",
    "\n",
    "[reference doc](https://www.adeveloperdiary.com/data-science/machine-learning/understand-and-implement-the-backpropagation-algorithm-from-scratch-in-python/)"
   ]
  },
  {
   "cell_type": "markdown",
   "id": "0307873e-5f9a-4a01-ae79-95888abe63d2",
   "metadata": {},
   "source": [
    "## the math\n",
    "\n",
    "$$\n",
    "\\large{\\begin{align}\n",
    "\\mathbf{\\hat{Y}} &= \\mathbf{\\sigma}\\left\\{\\mathbf{Z}\\right\\}\\\\\n",
    "\\mathbf{\\hat{Y}} &= \\mathbf{\\sigma} \\left\\{ \\mathbf{W} \\cdot \\mathbf{X} + \\mathbf{B}\\right\\}\\\\\n",
    "\\end{align}}\n",
    "$$\n",
    "\n",
    "the shape of each element is\n",
    "\n",
    "$$\n",
    "\\large{\\begin{align}\n",
    "    \\mathbf{X}_{784, 1}&=\\left(\n",
    "        \\begin{matrix}\n",
    "            x_0 \\\\ x_1 \\\\ \\vdots \\\\ x_{783}\n",
    "        \\end{matrix}\\right)\\\\[10pt]\n",
    "\\mathbf{W}_{10, 784}&=\\left( \n",
    "    \\begin{matrix}\n",
    "        w_{0, 0} & w_{0, 1} & \\dots & w_{0, 783} \\\\\n",
    "        w_{1, 0} & w_{1, 1} & \\dots & w_{1, 783} \\\\ \n",
    "        \\vdots   & \\vdots   & \\ddots& \\vdots     \\\\ \n",
    "        w_{9, 0} & w_{9, 1} & \\dots & w_{9, 783} \\\\ \n",
    "    \\end{matrix}\\right)\\\\[10pt]\n",
    "    \\mathbf{B}_{10, 1}&=\\left(\n",
    "        \\begin{matrix}\n",
    "            b_0 \\\\ b_1 \\\\ \\vdots \\\\ b_{9}\n",
    "        \\end{matrix}\\right)\n",
    "\\end{align}}\n",
    "$$\n",
    "\n",
    "Going from $\\mathbf{X}$ (_inout image data_) to $\\mathbf{\\hat{Y}}$ (_output label data_), do the following _forward pass_. \n",
    "\n",
    "$$\n",
    "\\large{\\begin{align}\n",
    "    \\mathbf{\\hat{Y}}&=\\sigma\\left\\{ \\mathbf{Z} \\right\\}\\\\\n",
    "    \\mathbf{\\hat{Y}}&=\\sigma\\left\\{ \\mathbf{W} \\cdot \\mathbf{X} + \\mathbf{B} \\right\\}\\\\\n",
    "    \\mathbf{\\hat{Y}}_{10, 1}&=\\sigma \\bigg\\{\\, \\underbrace{\\mathbf{W}_{10, 784} \\cdot \\mathbf{X}_{784, 1}}_{\\mathbf{R}_{10, 1}} + \\mathbf{B}_{10, 1} \\bigg\\}\\\\\n",
    "    \\mathbf{\\hat{Y}}_{10, 1}&=\\sigma\\left\\{ \\mathbf{R}_{10, 1} + \\mathbf{B}_{10, 1} \\right\\}\\\\\n",
    "    \\mathbf{\\hat{Y}}_{10, 1}&=\\sigma\\left\\{ \\mathbf{Z}_{10, 1} \\right\\}\\\\\n",
    "    \\mathbf{\\hat{Y}}_{10, 1}&=\\mathbf{A}_{10, 1}\n",
    "\\end{align}}\n",
    "$$\n",
    "\n",
    "### Define the loss function\n",
    "\n",
    "$$\n",
    "\\large{\\text{Loss} \\rightarrow \\mathcal{L}}\n",
    "$$\n",
    "\n",
    "Write the parital derivatives of $\\mathcal{L}$ interms of $\\mathbf{W}$ and $\\mathbf{B}$\n",
    "\n",
    "$$\n",
    "\\large{\\begin{alignat}{2}\n",
    "    \\partial_W\\mathcal{L}&=\\frac{d\\mathcal{L}}{dA}\\mathbf{A} &&\\partial_B\\mathcal{L}=\\frac{d\\mathcal{L}}{dA}\\mathbf{A}\\\\\n",
    "    \\partial_W\\mathcal{L}&=\\frac{d\\mathcal{L}}{dA}\\left(\\frac{dA}{dZ}\\mathbf{Z} \\right) &&\\partial_B\\mathcal{L}=\\frac{d\\mathcal{L}}{dA}\\left(\\frac{dA}{dZ}\\mathbf{Z}\\right)\\\\\n",
    "    \\partial_W\\mathcal{L}&=\\frac{d\\mathcal{L}}{dA}\\left(\\frac{dA}{dZ}\\left(\\frac{dZ}{dW}\\mathbf{Z}\\right)\\right)\\qquad &&\\partial_B\\mathcal{L}=\\frac{d\\mathcal{L}}{dA}\\left(\\frac{dA}{dZ}\\left(\\frac{dZ}{dB}\\mathbf{Z}\\right)\\right)\n",
    "\\end{alignat}}\n",
    "$$\n",
    "\n",
    "to update the weights, it is\n",
    "\n",
    "$$\n",
    "\\large{\\begin{align}\n",
    "    \\mathbf{W}_{new} &= \\mathbf{W}_{prev} + \\alpha \\partial_W \\mathcal{L}\\\\[10pt]\n",
    "    \\mathbf{B}_{new} &= \\mathbf{B}_{prev} + \\alpha \\partial_B \\mathcal{L}\n",
    "\\end{align}}\n",
    "$$\n",
    "\n",
    "Loss function (square mean)\n",
    "\n",
    "$$\n",
    "\\large{\\begin{align}\n",
    "    \\mathcal{L} &= -\\frac{1}{n} \\bigg(Y - \\mathbf{A}\\bigg)^2 \\\\[10pt]\n",
    "\\end{align}}\n",
    "$$"
   ]
  },
  {
   "cell_type": "markdown",
   "id": "f37f6909-436e-4461-ad4e-cb7ffb00f49f",
   "metadata": {},
   "source": [
    "$$\n",
    "\\large{\\begin{align}\n",
    "    \\partial_W\\left\\{\\mathcal{L}\\right\\} &= -\\frac{1}{n} \\partial_W\\left\\{\\partial_Z\\left\\{\\partial_A\\left\\{\\bigg(Y - \\mathbf{A}\\bigg)^2\\right\\}\\right\\}\\right\\} \\\\[10pt]\n",
    "\\end{align}}\n",
    "$$"
   ]
  },
  {
   "cell_type": "markdown",
   "id": "8ff4aed1-d89d-40bc-8331-d599b49d3520",
   "metadata": {},
   "source": [
    "$$\n",
    "\\large{\\begin{align}\n",
    "\\partial_W\\left\\{\\mathcal{L}\\right\\} &= -\\frac{1}{n} \\partial_W\\bigg\\{\\partial_Z\\big\\{ -2A\\big\\}\\bigg\\}\\\\[10pt]\n",
    "\\partial_W\\left\\{\\mathcal{L}\\right\\} &= \\frac{2}{n} \\partial_W\\bigg\\{\\partial_Z\\big\\{ \\sigma\\big( \\mathbf{Z} \\big) \\big\\}\\bigg\\}\\\\[10pt]\n",
    "\\end{align}}\n",
    "$$"
   ]
  },
  {
   "cell_type": "markdown",
   "id": "fccf25b0-e23c-48ff-b3f8-2ce99831445e",
   "metadata": {},
   "source": [
    "$$\n",
    "\\large{\\begin{align}\n",
    "\\partial_W\\left\\{\\mathcal{L}\\right\\} &= \\frac{2}{n} \\partial_W\\bigg\\{ d\\sigma \\big(\\mathbf{Z}\\big) \\bigg\\}\\\\[10pt]\n",
    "% \\partial_W\\left\\{\\mathcal{L}\\right\\} &= \\frac{1}{n} \\partial_W\\bigg\\{\\partial_Z\\big\\{ 2 \\sigma\\big( \\mathbf{W} \\cdot \\mathbf{X} + \\mathbf{B} \\big) \\big\\}\\bigg\\}\\\\[10pt]\n",
    "\\end{align}}\n",
    "$$"
   ]
  },
  {
   "cell_type": "code",
   "execution_count": 3,
   "id": "c4bc9ca3-27b6-471f-9777-23cb530fbebc",
   "metadata": {
    "tags": []
   },
   "outputs": [],
   "source": [
    "def one_hot(data_y):\n",
    "    n_labels = data_y.shape[0]\n",
    "    n_options = int(data_y.max())\n",
    "    one_hoty = np.zeros((n_labels, n_options + 1))\n",
    "    one_hoty[np.arange(n_labels), data_y] = 1\n",
    "    return one_hoty.transpose()\n",
    "\n",
    "def _forward_prop(data_x):\n",
    "    for layer in layers:\n",
    "        print(layer.weights.shape, data_x.shape)\n",
    "        data_z = matmul(layer.weights, data_x) + layer.bias\n",
    "        data_x = layer.activation._act()(data_z)\n",
    "    return data_z, data_x"
   ]
  },
  {
   "cell_type": "markdown",
   "id": "77182f2a-d535-4cdd-8cb2-430efaeaef66",
   "metadata": {},
   "source": [
    "## Define the model in code"
   ]
  },
  {
   "cell_type": "code",
   "execution_count": 21,
   "id": "8158103e-f908-481c-bf22-d97d80797e2d",
   "metadata": {
    "tags": []
   },
   "outputs": [
    {
     "name": "stdout",
     "output_type": "stream",
     "text": [
      "model shapes:\n",
      " - shape of X = (784, 1)\n",
      " - shape of W = (10, 784)\n",
      " - shape of B = (10, 1)\n",
      " - activation = sigmoid\n"
     ]
    }
   ],
   "source": [
    "model_outputs = 10\n",
    "n_images, n_pixels_per_image, n_image_dims = train_x.shape\n",
    "# 39900, 784, 1\n",
    "\n",
    "image_len = train_x.shape[1]\n",
    "layer_args = namedtuple('layer', ['input_dim', 'output_dim', 'activation', 'name'])\n",
    "layer_1 = layer_args(\n",
    "    input_dim=n_pixels_per_image, \n",
    "    output_dim=model_outputs, \n",
    "    activation='sigmoid', \n",
    "    name='layer1'\n",
    ")\n",
    "\n",
    "# 1 layer model\n",
    "model = Layer(\n",
    "    input_dim=layer_1.input_dim,\n",
    "    output_dim=layer_1.output_dim,\n",
    "    activation=layer_1.activation,\n",
    "    name=layer_1.name\n",
    ")\n",
    "\n",
    "print('model shapes:')\n",
    "print(f' - shape of X = {train_x[0].shape}')\n",
    "print(f' - shape of W = {model.weights.shape}')\n",
    "print(f' - shape of B = {model.bias.shape}')\n",
    "print(f' - activation = {model.activation.name}')"
   ]
  },
  {
   "cell_type": "code",
   "execution_count": 30,
   "id": "3d27c9ae-c1d7-40f3-ad19-fa6256a1345e",
   "metadata": {
    "tags": []
   },
   "outputs": [],
   "source": [
    "# Forward\n",
    "\n",
    "z = np.matmul(model.weights, train_x[0]) + model.bias\n",
    "a = model.activation._act()(z)\n",
    "\n",
    "# Backward\n",
    "\n"
   ]
  },
  {
   "cell_type": "code",
   "execution_count": null,
   "id": "b4c8c700-158d-44e0-94b8-e6ffe0b4f06f",
   "metadata": {
    "tags": []
   },
   "outputs": [],
   "source": []
  },
  {
   "cell_type": "code",
   "execution_count": null,
   "id": "8c01f060-7b28-4fc5-b37b-05d9e19c5657",
   "metadata": {},
   "outputs": [],
   "source": []
  }
 ],
 "metadata": {
  "kernelspec": {
   "display_name": "Python 3 (ipykernel)",
   "language": "python",
   "name": "python3"
  },
  "language_info": {
   "codemirror_mode": {
    "name": "ipython",
    "version": 3
   },
   "file_extension": ".py",
   "mimetype": "text/x-python",
   "name": "python",
   "nbconvert_exporter": "python",
   "pygments_lexer": "ipython3",
   "version": "3.11.2"
  }
 },
 "nbformat": 4,
 "nbformat_minor": 5
}
